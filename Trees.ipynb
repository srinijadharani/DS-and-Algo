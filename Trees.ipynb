{
  "nbformat": 4,
  "nbformat_minor": 0,
  "metadata": {
    "colab": {
      "name": "Trees.ipynb",
      "provenance": [],
      "authorship_tag": "ABX9TyMKA+F/CUzbJcm/R/qNfB5K",
      "include_colab_link": true
    },
    "kernelspec": {
      "name": "python3",
      "display_name": "Python 3"
    }
  },
  "cells": [
    {
      "cell_type": "markdown",
      "metadata": {
        "id": "view-in-github",
        "colab_type": "text"
      },
      "source": [
        "<a href=\"https://colab.research.google.com/github/srinijadharani/DS-and-Algo/blob/main/Trees.ipynb\" target=\"_parent\"><img src=\"https://colab.research.google.com/assets/colab-badge.svg\" alt=\"Open In Colab\"/></a>"
      ]
    },
    {
      "cell_type": "markdown",
      "metadata": {
        "id": "aG8I2CnjmRjW"
      },
      "source": [
        "# **Tree Data Structures** <br>\n",
        "A tree DS has a root, branches, and leaves. All the children of one node are independent of of the children of another node.Each leaf node is unique. In a file system, directories or folders are structured as trees.\n",
        "\n",
        "Trees are non-linear data structures. A non-linear data structure has multiple layers, in a hierarchical order. Trees are unidirectional (top to bottom).\n",
        "\n",
        "### **Terminology:**<br>\n",
        "1. Node: It is a fundamental part of a tree. Nodes store information. \n",
        "2. Edge: An edge connects two nodes to show that there is a relation between them. Every node is connected by exactly one incoming edge from another node, except the root node which has none. But each node may have sevearl outgoing edges.\n",
        "3. Root: It is the only node in the tree that has no incoming edges. It has no parent node.\n",
        "4. Path: A path is an ordered list of nodes that are connected by edges. It's a sequence of consecutive edges from source node to the destination node. \n",
        "5. Children: The node below a given node connected by its edges downwards is called its child node. These have incoming edges, and maybe outgoing edges.\n",
        "6. Siblings: Children of the same parent node are said to be siblings.\n",
        "7. Subtree: A set of nodes and edges comprised of a parent node and all descendants of that parent is called a subtree.\n",
        "8. Leaf Node: Leaf node is a node that has no children. These are also called external nodes.\n",
        "9. Non-Leaf Node: Non-Leaf nodes have at least one child node. These are also called internal nodes.\n",
        "10. Traversing: Passing through nodes in a sequential order is called traversing the tree.\n",
        "11. Ancestor: Any predecessor node on the path from root node to that particular node is called the ancestor node to that node.\n",
        "12. Descendant: Any successor node on the path from that particular node to the leaf node is called the descendant node to that node.\n",
        "13. Degree: Degree of a node is the number of children to that node. Degree of a tree is the maximum degree among all nodes.\n",
        "14. Depth: Depth of a node is the length of path from root to that node. Depth of root node is always 0.\n",
        "15. Height: Height of a node is the number of edges in the longest path from that node to a leaf. Height is the opposite of depth. The height and depth of a node may or may not be same.<br>\n",
        "    ```Height of a tree = Height of its root node.```\n",
        "16. Level: The number of edges from root to the given node is called level.<br>\n",
        "    ```Level of the tree = Height of the tree```<br>\n",
        "    ```Level of a node ≠ Height of a node```<br>\n",
        "    ```Level of a tree = Depth of a node```<br>\n",
        "\n",
        "### **Important points to note:**\n",
        "1. If a tree has n nodes, there will be (n-1) edges.\n",
        "2. Trees are acyclic.\n",
        "3. Applications of trees:<br>\n",
        "    1. Store hierarchical data, like folder structure, organizational structre, XML/HTML data.\n",
        "    2. Binary search trees allow fast search, insertion, deletion on sorted data. They also help find the closest item to a given item.\n",
        "    3. Heap is a tree DS which is implemented using arrays and used to implement priority queues.\n",
        "4. Trees are recursive data structures where a child node is another tree on itself."
      ]
    }
  ]
}